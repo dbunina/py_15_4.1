{
 "cells": [
  {
   "cell_type": "code",
   "execution_count": 74,
   "metadata": {},
   "outputs": [],
   "source": [
    "import pandas as pd\n",
    "import os"
   ]
  },
  {
   "cell_type": "code",
   "execution_count": 75,
   "metadata": {},
   "outputs": [],
   "source": [
    "DATA_PATH = f'{os.path.join(os.getcwd(), \"names\")}'"
   ]
  },
  {
   "cell_type": "code",
   "execution_count": 76,
   "metadata": {},
   "outputs": [],
   "source": [
    "def load_data(year):\n",
    "    file_path = os.path.join(DATA_PATH, 'yob{}.txt'.format(year))\n",
    "    with open(file_path) as f:\n",
    "        names = pd.read_csv(f, names=['Name','Gender','Count'])\n",
    "    return names"
   ]
  },
  {
   "cell_type": "code",
   "execution_count": 77,
   "metadata": {},
   "outputs": [],
   "source": [
    "def get_merged_names(years):\n",
    "    names_by_year = dict()\n",
    "    \n",
    "    for year in years:\n",
    "        names = load_data(year)\n",
    "        names_by_year[year] = names\n",
    "    \n",
    "    merged_names = pd.concat(names_by_year, names=['Year', 'Pos'])\n",
    "    return merged_names"
   ]
  },
  {
   "cell_type": "code",
   "execution_count": 78,
   "metadata": {},
   "outputs": [],
   "source": [
    "def count_top3(years):\n",
    "    top_names = []    \n",
    "    merged_names = get_merged_names(years)\n",
    "    \n",
    "    top = merged_names.groupby('Name').sum().reset_index().sort_values(by='Count', ascending=False).head(3)\n",
    "    return top['Name'].tolist()"
   ]
  },
  {
   "cell_type": "code",
   "execution_count": 79,
   "metadata": {},
   "outputs": [
    {
     "data": {
      "text/plain": [
       "True"
      ]
     },
     "execution_count": 79,
     "metadata": {},
     "output_type": "execute_result"
    }
   ],
   "source": [
    "count_top3([1880]) == ['John', 'William', 'Mary']"
   ]
  },
  {
   "cell_type": "code",
   "execution_count": 80,
   "metadata": {},
   "outputs": [
    {
     "data": {
      "text/plain": [
       "True"
      ]
     },
     "execution_count": 80,
     "metadata": {},
     "output_type": "execute_result"
    }
   ],
   "source": [
    "count_top3([1900, 1950, 2000]) == ['James', 'John', 'Robert']"
   ]
  },
  {
   "cell_type": "code",
   "execution_count": 81,
   "metadata": {},
   "outputs": [],
   "source": [
    "def count_dynamics(years):\n",
    "    gender_dynamics = dict()\n",
    "    merged_names = get_merged_names(years)\n",
    "    \n",
    "    slices = ['Year', 'Gender']\n",
    "    top = merged_names.groupby(slices).sum().reset_index().sort_values(by=slices, ascending=True)\n",
    "    \n",
    "    for gender in ['F', 'M']:\n",
    "        gender_dynamics[gender] = top[top.Gender.str.contains(gender)].Count.tolist()\n",
    "    return gender_dynamics"
   ]
  },
  {
   "cell_type": "code",
   "execution_count": 82,
   "metadata": {},
   "outputs": [
    {
     "data": {
      "text/plain": [
       "{'F': [299800, 1713151, 1815110], 'M': [150483, 1790549, 1962969]}"
      ]
     },
     "execution_count": 82,
     "metadata": {},
     "output_type": "execute_result"
    }
   ],
   "source": [
    "count_dynamics([1900, 1950, 2000])"
   ]
  }
 ],
 "metadata": {
  "kernelspec": {
   "display_name": "Python 3",
   "language": "python",
   "name": "python3"
  },
  "language_info": {
   "codemirror_mode": {
    "name": "ipython",
    "version": 3
   },
   "file_extension": ".py",
   "mimetype": "text/x-python",
   "name": "python",
   "nbconvert_exporter": "python",
   "pygments_lexer": "ipython3",
   "version": "3.6.4"
  }
 },
 "nbformat": 4,
 "nbformat_minor": 2
}
