{
 "cells": [
  {
   "cell_type": "code",
   "execution_count": 1,
   "metadata": {},
   "outputs": [],
   "source": [
    "import pandas as pd\n",
    "import os"
   ]
  },
  {
   "cell_type": "code",
   "execution_count": 2,
   "metadata": {},
   "outputs": [],
   "source": [
    "DATA_PATH = f'{os.path.join(os.getcwd(), \"names\")}'"
   ]
  },
  {
   "cell_type": "code",
   "execution_count": 58,
   "metadata": {},
   "outputs": [],
   "source": [
    "def load_data(year):\n",
    "    file_path = os.path.join(DATA_PATH, 'yob{}.txt'.format(year))\n",
    "    with open(file_path) as f:\n",
    "        names = pd.read_csv(f, names=['Name','Gender','Count'])\n",
    "    return names"
   ]
  },
  {
   "cell_type": "code",
   "execution_count": 94,
   "metadata": {},
   "outputs": [],
   "source": [
    "def count_top3(years):\n",
    "    top_names = []\n",
    "    names_by_year = dict()\n",
    "    \n",
    "    for year in years:\n",
    "        names = load_data(year)\n",
    "        names_by_year[year] = names\n",
    "    \n",
    "    merged_names = pd.concat(names_by_year, names=['Year', 'Pos'])\n",
    "    top = merged_names.groupby('Name').sum().sort_values(by='Count', ascending=False).head(3)\n",
    "    top = top.reset_index()\n",
    "    return top['Name'].tolist()"
   ]
  },
  {
   "cell_type": "code",
   "execution_count": 100,
   "metadata": {},
   "outputs": [
    {
     "data": {
      "text/plain": [
       "True"
      ]
     },
     "execution_count": 100,
     "metadata": {},
     "output_type": "execute_result"
    }
   ],
   "source": [
    "count_top3([1880]) == ['John', 'William', 'Mary']"
   ]
  },
  {
   "cell_type": "code",
   "execution_count": 101,
   "metadata": {},
   "outputs": [
    {
     "data": {
      "text/plain": [
       "True"
      ]
     },
     "execution_count": 101,
     "metadata": {},
     "output_type": "execute_result"
    }
   ],
   "source": [
    "count_top3([1900, 1950, 2000]) == ['James', 'John', 'Robert']"
   ]
  }
 ],
 "metadata": {
  "kernelspec": {
   "display_name": "Python 3",
   "language": "python",
   "name": "python3"
  },
  "language_info": {
   "codemirror_mode": {
    "name": "ipython",
    "version": 3
   },
   "file_extension": ".py",
   "mimetype": "text/x-python",
   "name": "python",
   "nbconvert_exporter": "python",
   "pygments_lexer": "ipython3",
   "version": "3.6.4"
  }
 },
 "nbformat": 4,
 "nbformat_minor": 2
}
